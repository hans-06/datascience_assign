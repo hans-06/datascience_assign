{
 "cells": [
  {
   "cell_type": "markdown",
   "id": "ca5146cd-c3a2-4525-adc9-d9cb43d1e892",
   "metadata": {},
   "source": [
    "# Data Science Tools and Ecosystem"
   ]
  },
  {
   "cell_type": "markdown",
   "id": "35f17e35-c88a-49a6-adeb-a4ab36a0e489",
   "metadata": {},
   "source": [
    "In this notebook, Data Science and Ecosystem are summarized."
   ]
  },
  {
   "cell_type": "markdown",
   "id": "017cad03-fc7f-4f6e-a5b6-e0725d75100c",
   "metadata": {},
   "source": [
    "**Objectives:**\n",
    "+ Insert code and markdown cells\n",
    "+ Create a Jupyter Notebook\n",
    "+ List popular languages for Data Science\n",
    "+ List commonly used libraries used by Data Scientists\n",
    "+ List Data Science Tools"
   ]
  },
  {
   "cell_type": "markdown",
   "id": "32598fe6-33cc-4564-a327-36b61fe615ae",
   "metadata": {},
   "source": [
    "Some of the popular languages that Data Scientists use are:\n",
    "1. Python\n",
    "2. R\n",
    "3. julia"
   ]
  },
  {
   "cell_type": "markdown",
   "id": "9db8599a-c8ce-4914-a9e4-85cef762dba2",
   "metadata": {},
   "source": [
    "Some of the commonly used libraries used by Data Scientists include:\n",
    "1. Numpy\n",
    "2. pandas\n",
    "3. Matplotlib\n",
    "4. seaborn\n",
    "5. plotly\n",
    "6. ggplot"
   ]
  },
  {
   "cell_type": "markdown",
   "id": "abbd1a4d-676e-4437-9a18-ded3bd81a1c3",
   "metadata": {},
   "source": [
    "| Data Science Tools |\n",
    "| ----------------- |\n",
    "| jupyter notebook |\n",
    "| jupiterlab |\n",
    "| Anaconda |\n",
    "| VS code |"
   ]
  },
  {
   "cell_type": "markdown",
   "id": "064479de-4d50-4d77-aebf-aeadf41c2048",
   "metadata": {},
   "source": [
    "### Below are a few examples of evaluating arithmetic expressions in Python"
   ]
  },
  {
   "cell_type": "code",
   "execution_count": 1,
   "id": "a8a88840-b230-4ce5-b2a2-0395fa330429",
   "metadata": {},
   "outputs": [
    {
     "data": {
      "text/plain": [
       "17"
      ]
     },
     "execution_count": 1,
     "metadata": {},
     "output_type": "execute_result"
    }
   ],
   "source": [
    "# This a simple arithmetic expression to mutiply then add integers\n",
    "(3*4)+5"
   ]
  },
  {
   "cell_type": "code",
   "execution_count": 2,
   "id": "0bfacf60-85c1-4948-bfd8-bda3add5c3f6",
   "metadata": {},
   "outputs": [
    {
     "data": {
      "text/plain": [
       "3.3333333333333335"
      ]
     },
     "execution_count": 2,
     "metadata": {},
     "output_type": "execute_result"
    }
   ],
   "source": [
    "# This will convert 200 minutes to hours by diving by 60\n",
    "200/60"
   ]
  },
  {
   "cell_type": "markdown",
   "id": "4daaf5c7-b5cf-4d31-9009-f22ba7388ec0",
   "metadata": {},
   "source": [
    "## Author\n",
    "Lakshmi Holla"
   ]
  },
  {
   "cell_type": "code",
   "execution_count": null,
   "id": "827ee0c5-3dde-4152-b476-f421ef6d39bb",
   "metadata": {},
   "outputs": [],
   "source": []
  }
 ],
 "metadata": {
  "kernelspec": {
   "display_name": "Python [conda env:base] *",
   "language": "python",
   "name": "conda-base-py"
  },
  "language_info": {
   "codemirror_mode": {
    "name": "ipython",
    "version": 3
   },
   "file_extension": ".py",
   "mimetype": "text/x-python",
   "name": "python",
   "nbconvert_exporter": "python",
   "pygments_lexer": "ipython3",
   "version": "3.12.7"
  }
 },
 "nbformat": 4,
 "nbformat_minor": 5
}
